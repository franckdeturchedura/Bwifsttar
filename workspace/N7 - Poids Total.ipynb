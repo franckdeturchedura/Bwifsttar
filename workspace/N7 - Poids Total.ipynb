{
 "cells": [
  {
   "cell_type": "markdown",
   "metadata": {},
   "source": [
    "# **STAGE PONTS INSTRUMENTES - Notebook 7**"
   ]
  },
  {
   "cell_type": "markdown",
   "metadata": {},
   "source": [
    "## Table of Contents\n",
    "\n",
    "### 0. [Bibliothèques](#0/-Bibliothèques)\n",
    "### I. [Calcul de la ligne d'influence sur tous les camions de calibration](#I/-Calcul-de-la-ligne-d'influence-sur-tous-les-camions-de-calibration)\n",
    "### II. [Calcul du poids total](#II/-Calcul-du-poids-total)\n",
    "### III. [Tests sur les camions](#III/-Tests-sur-les-camions)\n",
    "1. [Camions de calibration  --  LI calculée sur tous les camions de calibration](#III.1-Camions-de-calibration------LI-calculée-sur-tous-les-camions-de-calibration)\n",
    "2. [Camions de traffic  --  LI calulée sur tous les camions de calibration](#III.2-Camions-de-traffic------LI-calculée-sur-tous-les-camions-de-calibration)\n",
    "3. [Camions de calibration  --  LI calculée sur le camion](#III.3-Camions-de-calibration------LI-calculée-sur-le-camion)"
   ]
  },
  {
   "cell_type": "markdown",
   "metadata": {},
   "source": [
    "**Nous allons voir dans ce Notebook s'il est possible de déterminer le poids total d'un poids lourd à partir de des aires sous le signal et la ligne d'influence**\n"
   ]
  },
  {
   "cell_type": "markdown",
   "metadata": {},
   "source": [
    "## 0/ Bibliothèques"
   ]
  },
  {
   "cell_type": "code",
   "execution_count": 1,
   "metadata": {
    "ExecuteTime": {
     "end_time": "2020-08-11T09:17:22.580017Z",
     "start_time": "2020-08-11T09:17:21.983642Z"
    }
   },
   "outputs": [],
   "source": [
    "from Bwifsttar import load_senlis_modified,calibration_mt_reg\n",
    "import numpy as np"
   ]
  },
  {
   "cell_type": "markdown",
   "metadata": {},
   "source": [
    "## I/ Calcul de la ligne d'influence sur tous les camions de calibration"
   ]
  },
  {
   "cell_type": "code",
   "execution_count": 2,
   "metadata": {
    "ExecuteTime": {
     "end_time": "2020-08-11T09:17:27.989645Z",
     "start_time": "2020-08-11T09:17:22.583038Z"
    }
   },
   "outputs": [
    {
     "name": "stdout",
     "output_type": "stream",
     "text": [
      "40.14256\n"
     ]
    }
   ],
   "source": [
    "calibration_trucks,traffic_trucks=load_senlis_modified(selected=6)\n",
    "truck = calibration_trucks[2]\n",
    "print(np.sum(truck.weights))\n",
    "\n",
    "influence = calibration_mt_reg(calibration_trucks,tv_reg={'strength': 1e2, 'cutoff': 0.95})\n",
    "\n"
   ]
  },
  {
   "cell_type": "markdown",
   "metadata": {},
   "source": [
    "## II/ Calcul du poids total"
   ]
  },
  {
   "cell_type": "code",
   "execution_count": 3,
   "metadata": {
    "ExecuteTime": {
     "end_time": "2020-08-11T09:17:28.006582Z",
     "start_time": "2020-08-11T09:17:27.993821Z"
    }
   },
   "outputs": [
    {
     "name": "stdout",
     "output_type": "stream",
     "text": [
      "Poids estimé :  41.255534643303626\n",
      "Poids réel :  40.14256\n"
     ]
    }
   ],
   "source": [
    "def poids_tot(truck,influence):\n",
    "    \"\"\"\n",
    "        Données :\n",
    "            - truck : namedTuple de Truck\n",
    "            - influence : Ligne d'influence\n",
    "        Sorties :\n",
    "            - poids_tot : Poids total estimé\n",
    "        Fonction : retourne le poids total estimé d'un camion à partir de la ligne d'influence et du signal du camion\n",
    "    \"\"\"\n",
    "    new_signal= []\n",
    "    for i in range(truck.peaks.shape[0]):\n",
    "        new_signal.append(truck.signals[truck.peaks[i]])\n",
    "    new_influence = []\n",
    "    for i in range(truck.peaks.shape[0]):\n",
    "        new_influence.append(influence[truck.peaks[i]])\n",
    "    #return (np.sum(new_signal)/np.sum(new_influence))\n",
    "    poids_tot = (np.sum(truck.signals)/np.sum(influence))\n",
    "    return poids_tot\n",
    "\n",
    "truck = calibration_trucks[0]\n",
    "print(\"Poids estimé : \",poids_tot(truck,influence))\n",
    "print(\"Poids réel : \",np.sum(truck.weights))\n",
    "\n",
    "    \n",
    "\n"
   ]
  },
  {
   "cell_type": "markdown",
   "metadata": {},
   "source": [
    "## III/ Tests sur les camions"
   ]
  },
  {
   "cell_type": "markdown",
   "metadata": {},
   "source": [
    "### III.1 Camions de calibration  --  LI calculée sur tous les camions de calibration"
   ]
  },
  {
   "cell_type": "code",
   "execution_count": 4,
   "metadata": {
    "ExecuteTime": {
     "end_time": "2020-08-11T09:17:28.059342Z",
     "start_time": "2020-08-11T09:17:28.010318Z"
    },
    "scrolled": true
   },
   "outputs": [
    {
     "name": "stdout",
     "output_type": "stream",
     "text": [
      "Poids réel : 40.14256\n",
      "Poids estimé :  41.255534643303626\n",
      "Différence (en valeur absolue):  1.1129746433036232\n",
      "\n",
      "\n",
      "Poids réel : 40.14256\n",
      "Poids estimé :  40.8933289690534\n",
      "Différence (en valeur absolue):  0.7507689690533965\n",
      "\n",
      "\n",
      "Poids réel : 40.14256\n",
      "Poids estimé :  38.505897396720684\n",
      "Différence (en valeur absolue):  1.6366626032793192\n",
      "\n",
      "\n",
      "Poids réel : 40.14256\n",
      "Poids estimé :  47.44452316813377\n",
      "Différence (en valeur absolue):  7.301963168133767\n",
      "\n",
      "\n",
      "Poids réel : 40.14256\n",
      "Poids estimé :  50.37004399627752\n",
      "Différence (en valeur absolue):  10.22748399627752\n",
      "\n",
      "\n",
      "Poids réel : 40.14256\n",
      "Poids estimé :  45.742600216637854\n",
      "Différence (en valeur absolue):  5.600040216637851\n",
      "\n",
      "\n",
      "Poids réel : 40.14256\n",
      "Poids estimé :  46.61673753382103\n",
      "Différence (en valeur absolue):  6.4741775338210275\n",
      "\n",
      "\n",
      "Poids réel : 40.14256\n",
      "Poids estimé :  66.60609396495141\n",
      "Différence (en valeur absolue):  26.46353396495141\n",
      "\n",
      "\n",
      "Poids réel : 40.14256\n",
      "Poids estimé :  66.50655791588933\n",
      "Différence (en valeur absolue):  26.36399791588933\n",
      "\n",
      "\n",
      "Poids réel : 40.14256\n",
      "Poids estimé :  66.50575411259724\n",
      "Différence (en valeur absolue):  26.36319411259724\n",
      "\n",
      "\n",
      "Poids réel : 40.14256\n",
      "Poids estimé :  56.70118504576122\n",
      "Différence (en valeur absolue):  16.558625045761218\n",
      "\n",
      "\n",
      "Poids réel : 40.14256\n",
      "Poids estimé :  68.01755192459918\n",
      "Différence (en valeur absolue):  27.874991924599172\n",
      "\n",
      "\n",
      "Erreur moyenne :  13.060701174525406\n"
     ]
    }
   ],
   "source": [
    "error = 0\n",
    "for i in range(0,len(calibration_trucks)):\n",
    "    truck = calibration_trucks[i]\n",
    "    print(\"Poids réel :\" ,np.sum(truck.weights))\n",
    "    #influence = calibration_mt([truck],tv_reg={'strength': 1e2, 'cutoff': 0.95},l2_reg={'strength': 1e3, 'cutoff': 0.01})\n",
    "\n",
    "    print(\"Poids estimé : \",poids_tot(truck,influence))\n",
    "    print(\"Différence (en valeur absolue): \",abs(poids_tot(truck,influence)-np.sum(truck.weights)))\n",
    "    error += abs(poids_tot(truck,influence)-np.sum(truck.weights))\n",
    "    print(\"\\n\")\n",
    "print(\"Erreur moyenne : \",error/len(calibration_trucks))"
   ]
  },
  {
   "cell_type": "markdown",
   "metadata": {},
   "source": [
    "### III.2 Camions de traffic  --  LI calculée sur tous les camions de calibration"
   ]
  },
  {
   "cell_type": "code",
   "execution_count": 5,
   "metadata": {
    "ExecuteTime": {
     "end_time": "2020-08-11T09:17:28.095090Z",
     "start_time": "2020-08-11T09:17:28.063660Z"
    },
    "scrolled": true
   },
   "outputs": [
    {
     "name": "stdout",
     "output_type": "stream",
     "text": [
      "Poids réel : 43.3\n",
      "Poids estimé :  52.92951082380425\n",
      "Différence (en valeur absolue):  9.629510823804253\n",
      "\n",
      "\n",
      "Poids réel : 43.05\n",
      "Poids estimé :  52.67940088082072\n",
      "Différence (en valeur absolue):  9.629400880820725\n",
      "\n",
      "\n",
      "Poids réel : 44.800000000000004\n",
      "Poids estimé :  53.30839762825562\n",
      "Différence (en valeur absolue):  8.508397628255615\n",
      "\n",
      "\n",
      "Poids réel : 44.75\n",
      "Poids estimé :  51.23440113058025\n",
      "Différence (en valeur absolue):  6.4844011305802525\n",
      "\n",
      "\n",
      "Poids réel : 41.9\n",
      "Poids estimé :  53.09815868739672\n",
      "Différence (en valeur absolue):  11.19815868739672\n",
      "\n",
      "\n",
      "Poids réel : 44.85\n",
      "Poids estimé :  51.84949201678673\n",
      "Différence (en valeur absolue):  6.999492016786732\n",
      "\n",
      "\n",
      "Poids réel : 43.15\n",
      "Poids estimé :  44.46976235811879\n",
      "Différence (en valeur absolue):  1.319762358118794\n",
      "\n",
      "\n",
      "Poids réel : 40.3\n",
      "Poids estimé :  37.67872361391248\n",
      "Différence (en valeur absolue):  2.6212763860875157\n",
      "\n",
      "\n",
      "Poids réel : 44.35\n",
      "Poids estimé :  43.66517868710645\n",
      "Différence (en valeur absolue):  0.6848213128935541\n",
      "\n",
      "\n",
      "Poids réel : 43.25\n",
      "Poids estimé :  42.697259131910776\n",
      "Différence (en valeur absolue):  0.5527408680892236\n",
      "\n",
      "\n",
      "Poids réel : 46.3\n",
      "Poids estimé :  53.06714535813828\n",
      "Différence (en valeur absolue):  6.767145358138286\n",
      "\n",
      "\n",
      "Poids réel : 41.7\n",
      "Poids estimé :  42.85778757257953\n",
      "Différence (en valeur absolue):  1.1577875725795295\n",
      "\n",
      "\n",
      "Poids réel : 43.699999999999996\n",
      "Poids estimé :  46.98495049336426\n",
      "Différence (en valeur absolue):  3.2849504933642635\n",
      "\n",
      "\n",
      "Poids réel : 40.7\n",
      "Poids estimé :  41.65830331972309\n",
      "Différence (en valeur absolue):  0.9583033197230861\n",
      "\n",
      "\n",
      "Poids réel : 45.3\n",
      "Poids estimé :  53.76552126390035\n",
      "Différence (en valeur absolue):  8.46552126390035\n",
      "\n",
      "\n",
      "Erreur moyenne :  5.21744467336926\n"
     ]
    }
   ],
   "source": [
    "error = 0\n",
    "for i in range(0,len(traffic_trucks)):\n",
    "    truck = traffic_trucks[i]\n",
    "    print(\"Poids réel :\" ,np.sum(truck.weights))\n",
    "    #influence = calibration_mt([truck],tv_reg={'strength': 1e2, 'cutoff': 0.95},l2_reg={'strength': 1e3, 'cutoff': 0.01})\n",
    "\n",
    "    print(\"Poids estimé : \",poids_tot(truck,influence))\n",
    "    print(\"Différence (en valeur absolue): \",abs(poids_tot(truck,influence)-np.sum(truck.weights)))\n",
    "    error += abs(poids_tot(truck,influence)-np.sum(truck.weights))\n",
    "    print(\"\\n\")\n",
    "print(\"Erreur moyenne : \",error/len(traffic_trucks))"
   ]
  },
  {
   "cell_type": "markdown",
   "metadata": {},
   "source": [
    "### III.3 Camions de calibration  --  LI calculée sur le camion"
   ]
  },
  {
   "cell_type": "code",
   "execution_count": 6,
   "metadata": {
    "ExecuteTime": {
     "end_time": "2020-08-11T09:17:35.315495Z",
     "start_time": "2020-08-11T09:17:28.098612Z"
    },
    "scrolled": true
   },
   "outputs": [
    {
     "name": "stdout",
     "output_type": "stream",
     "text": [
      "Poids réel : 40.14256\n",
      "Poids estimé : 40.23802899378426\n",
      "\n",
      "\n",
      "Poids réel : 40.14256\n",
      "Poids estimé : 40.040268955304576\n",
      "\n",
      "\n",
      "Poids réel : 40.14256\n",
      "Poids estimé : 39.77745863948206\n",
      "\n",
      "\n",
      "Poids réel : 40.14256\n",
      "Poids estimé : 40.06917891353475\n",
      "\n",
      "\n",
      "Poids réel : 40.14256\n",
      "Poids estimé : 39.967445225806884\n",
      "\n",
      "\n",
      "Poids réel : 40.14256\n",
      "Poids estimé : 39.946871236148375\n",
      "\n",
      "\n",
      "Poids réel : 40.14256\n",
      "Poids estimé : 39.91006773054095\n",
      "\n",
      "\n",
      "Poids réel : 40.14256\n",
      "Poids estimé : 40.052466637075355\n",
      "\n",
      "\n",
      "Poids réel : 40.14256\n",
      "Poids estimé : 40.06407219318924\n",
      "\n",
      "\n",
      "Poids réel : 40.14256\n",
      "Poids estimé : 39.8783025660485\n",
      "\n",
      "\n",
      "Poids réel : 40.14256\n",
      "Poids estimé : 40.08671297128022\n",
      "\n",
      "\n"
     ]
    }
   ],
   "source": [
    "for i in range(0,len(calibration_trucks)):\n",
    "    truck = calibration_trucks[i]\n",
    "    if(len(truck.weights)==len(truck.peaks)):\n",
    "\n",
    "        print(\"Poids réel :\",np.sum(truck.weights))\n",
    "        influence = calibration_mt_reg([truck],tv_reg={'strength': 1e2, 'cutoff': 0.95},l2_reg={'strength': 1e3, 'cutoff': 0.01})\n",
    "\n",
    "        print(\"Poids estimé :\",poids_tot(truck,influence))\n",
    "\n",
    "        print(\"\\n\")"
   ]
  },
  {
   "cell_type": "markdown",
   "metadata": {},
   "source": [
    "**Nous constatons donc que cette technique ne marche que lorsque la LI permet une bonne reconstruction/pesée (en l'occurrence lorsque la calibration est faite uniquement sur le camion en question). Cela est vérifié dans d'autres notebooks où nous utilisons des méthodes pour quantifier l'erreur de reconstruction du signal ou sur la pesée directement.**"
   ]
  }
 ],
 "metadata": {
  "kernelspec": {
   "display_name": "Python 3",
   "language": "python",
   "name": "python3"
  },
  "language_info": {
   "codemirror_mode": {
    "name": "ipython",
    "version": 3
   },
   "file_extension": ".py",
   "mimetype": "text/x-python",
   "name": "python",
   "nbconvert_exporter": "python",
   "pygments_lexer": "ipython3",
   "version": "3.8.2"
  },
  "nbTranslate": {
   "displayLangs": [
    "*"
   ],
   "hotkey": "alt-t",
   "langInMainMenu": true,
   "sourceLang": "en",
   "targetLang": "fr",
   "useGoogleTranslate": true
  },
  "toc": {
   "base_numbering": 1,
   "nav_menu": {},
   "number_sections": false,
   "sideBar": false,
   "skip_h1_title": false,
   "title_cell": "Table of Contents",
   "title_sidebar": "Contents",
   "toc_cell": false,
   "toc_position": {},
   "toc_section_display": true,
   "toc_window_display": false
  }
 },
 "nbformat": 4,
 "nbformat_minor": 4
}
